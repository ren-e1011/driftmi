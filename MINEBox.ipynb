{
 "cells": [
  {
   "cell_type": "code",
   "execution_count": 1,
   "id": "0d7af811-a899-4b34-abe1-be23d544cf78",
   "metadata": {},
   "outputs": [],
   "source": [
    "import torch"
   ]
  },
  {
   "cell_type": "code",
   "execution_count": 2,
   "id": "7f5b87ae-49b4-4775-9f4e-c2352321934c",
   "metadata": {},
   "outputs": [],
   "source": [
    "import numpy as np\n",
    "import pandas as pd"
   ]
  },
  {
   "cell_type": "code",
   "execution_count": 3,
   "id": "e6704793-2477-44e4-a4d8-556f37c0743a",
   "metadata": {},
   "outputs": [],
   "source": [
    "#import torchvision"
   ]
  },
  {
   "cell_type": "code",
   "execution_count": 3,
   "id": "9d3b38c7-fa77-46dd-9f2c-ebfad35ce478",
   "metadata": {},
   "outputs": [],
   "source": [
    "#import timm"
   ]
  },
  {
   "cell_type": "code",
   "execution_count": 3,
   "id": "f0f1e2e7-574a-4319-bace-9a7a5f9920fa",
   "metadata": {},
   "outputs": [],
   "source": [
    "import tensorflow as tf"
   ]
  },
  {
   "cell_type": "code",
   "execution_count": 4,
   "id": "3d158577-4ab3-4d26-ac66-52ab16587936",
   "metadata": {},
   "outputs": [],
   "source": [
    "import matplotlib.pyplot as plt"
   ]
  },
  {
   "cell_type": "code",
   "execution_count": 5,
   "id": "00763e12-d2bc-4009-9ab8-0ca61b3beb5c",
   "metadata": {},
   "outputs": [],
   "source": [
    "# print all columns\n",
    "pd.set_option('display.max_columns', None)"
   ]
  },
  {
   "cell_type": "code",
   "execution_count": 6,
   "id": "e58484d3-a0b8-4f7d-acef-4368191a258e",
   "metadata": {},
   "outputs": [],
   "source": [
    "import os"
   ]
  },
  {
   "cell_type": "code",
   "execution_count": 7,
   "id": "3f7eb06c-1b8d-436a-b742-8174a4ed352d",
   "metadata": {},
   "outputs": [],
   "source": [
    "import datetime"
   ]
  },
  {
   "cell_type": "code",
   "execution_count": 8,
   "id": "90f7859c-3df3-4f42-a917-95dfff3b11ca",
   "metadata": {},
   "outputs": [],
   "source": [
    "from scipy.interpolate import CubicSpline"
   ]
  },
  {
   "cell_type": "code",
   "execution_count": 9,
   "id": "00714317-7c5f-4817-ae49-b80d543f9015",
   "metadata": {},
   "outputs": [],
   "source": [
    "import matplotlib.pyplot as plt"
   ]
  },
  {
   "cell_type": "code",
   "execution_count": 106,
   "id": "0f3342bb-a6f4-4448-85c0-35e3e21d8141",
   "metadata": {},
   "outputs": [],
   "source": [
    "# try to redo timedelta with time\n",
    "from datetime import datetime"
   ]
  },
  {
   "cell_type": "markdown",
   "id": "c9c1035c-db99-49d3-aab7-ba9b3a9afc0b",
   "metadata": {},
   "source": [
    "Load trajectory"
   ]
  },
  {
   "cell_type": "code",
   "execution_count": 10,
   "id": "204b1c84-8c20-436d-83f5-00753815728b",
   "metadata": {},
   "outputs": [],
   "source": [
    "BASE_PATH = '/Volumes/Experiment Data/Sasha and Or/'"
   ]
  },
  {
   "cell_type": "markdown",
   "id": "d0673222-6f28-428d-8382-db27599d8e2a",
   "metadata": {},
   "source": [
    "Variables"
   ]
  },
  {
   "cell_type": "code",
   "execution_count": 12,
   "id": "765a5fbe-268d-4e87-b18a-f662bbcc0209",
   "metadata": {},
   "outputs": [],
   "source": [
    "# list of participants - ignore hidden files/folders (.DS_Store)\n",
    "part_set = set([_dir for _dir in os.listdir(BASE_PATH) if not _dir.startswith(\".\")])"
   ]
  },
  {
   "cell_type": "code",
   "execution_count": 13,
   "id": "df479e9c-c07e-4c5c-8308-ba8a17d1215b",
   "metadata": {},
   "outputs": [
    {
     "data": {
      "text/plain": [
       "38"
      ]
     },
     "execution_count": 13,
     "metadata": {},
     "output_type": "execute_result"
    }
   ],
   "source": [
    "len(part_set)"
   ]
  },
  {
   "cell_type": "code",
   "execution_count": 14,
   "id": "e6ee6b98-303b-4568-8187-505de7b8b1c5",
   "metadata": {
    "tags": []
   },
   "outputs": [],
   "source": [
    "exclude_set = set(['DL','OL','SM'])"
   ]
  },
  {
   "cell_type": "code",
   "execution_count": 15,
   "id": "eb5445a2-9638-46a2-a6eb-e0e0384ba4fd",
   "metadata": {},
   "outputs": [],
   "source": [
    "PART_LIST = list(part_set - exclude_set)"
   ]
  },
  {
   "cell_type": "code",
   "execution_count": 16,
   "id": "a93aeb0c-c662-4d2e-a28e-e3d9847d4132",
   "metadata": {},
   "outputs": [
    {
     "data": {
      "text/plain": [
       "35"
      ]
     },
     "execution_count": 16,
     "metadata": {},
     "output_type": "execute_result"
    }
   ],
   "source": [
    "len(PART_LIST)"
   ]
  },
  {
   "cell_type": "code",
   "execution_count": 54,
   "id": "13144d6f-e6d8-480e-b817-6d505b83cf51",
   "metadata": {},
   "outputs": [],
   "source": [
    "# 125 hz\n",
    "FREQ = 0.008"
   ]
  },
  {
   "cell_type": "code",
   "execution_count": 67,
   "id": "3ca50c65-5d94-4491-8ddf-f19c1234ea6b",
   "metadata": {},
   "outputs": [],
   "source": [
    "START_DELTA = 0.0 \n",
    "# first 100 stimuli * 3 seconds each\n",
    "# timedelta starts with 0 st second 300 is the right edge\n",
    "# add one more time bracket for interpolation before trimming\n",
    "END_DELTA = 300.0 \n",
    "END_MINUTE = 6"
   ]
  },
  {
   "cell_type": "markdown",
   "id": "dfcd0b52-78ae-4ad1-bb4b-01bd7ddab8cc",
   "metadata": {},
   "source": [
    "Helper functions"
   ]
  },
  {
   "cell_type": "code",
   "execution_count": 17,
   "id": "ca672931-355f-4ba0-ac6c-2530ce8f1cac",
   "metadata": {},
   "outputs": [],
   "source": [
    "def load_events(part):\n",
    "    events_path = BASE_PATH+part+'/Events.csv'\n",
    "    _events_df = pd.read_csv(events_path,on_bad_lines='warn')\n",
    "    \n",
    "    _simset = int(_events_df.columns[1].split('_')[1])\n",
    "    \n",
    "    _imgs = np.array([int(_events_df.loc[img][0]) for img in _events_df.index])\n",
    "    \n",
    "    _onsets = pd.Series([onset[0] for onset in _events_df.index],name='unity_time')\n",
    "    _onsets = _onsets.apply(lambda x:x/1E7)\n",
    "    # first line contains a timestamp but no \"Looking\" tag or eye data - ignore?\n",
    "    #_events_onsets.insert(0,int(_events_df.columns[0]))\n",
    "    print(str(len(_imgs)),'stimuli,',str(len(_onsets)),'events onsets' ,'- participant',part)\n",
    "    # return pd.Series(_events_onsets,name='unity_time').apply(lambda x: x/1E7), _simset\n",
    "    return _onsets, _simset, _imgs"
   ]
  },
  {
   "cell_type": "code",
   "execution_count": null,
   "id": "f365e115-ff9d-4b61-8338-c54fc7c3c003",
   "metadata": {},
   "outputs": [],
   "source": [
    "# Guess\n",
    "# head_cols = ['Time',\t'headx',\t'heady',\t'headz',\t'head rot x',\thead rot y\thead rot z\thead_dir_x\thead_dir_y\thead_dir_z]"
   ]
  },
  {
   "cell_type": "code",
   "execution_count": null,
   "id": "8716e6d6-1793-4501-814b-3ec90aec230f",
   "metadata": {},
   "outputs": [],
   "source": [
    "# def load_headDir(part):\n",
    "#     head_path = BASE_PATH+part+'/position.csv'\n",
    "#     _head_df = pd.read_csv(events_path,on_bad_lines='warn')\n",
    "    \n",
    "#     _cols = head_cols\n",
    "#     # take intersection of head direction and gaze data?\n",
    "    \n",
    "#     return _head_df"
   ]
  },
  {
   "cell_type": "markdown",
   "id": "683e195c-6f94-4428-a52a-9359061b8783",
   "metadata": {},
   "source": [
    "columns - \n",
    "['confidence', 'GazeDirection_x', 'GazeDirection_y', 'GazeDirection_z',\n",
    "       'GazeDistance', 'timestamp', 'norm_pos_x', 'norm_pos_y', 'EyeCenter0_x',\n",
    "       'EyeCenter0_y', 'EyeCenter0_z', 'GazeNormal0_x', 'GazeNormal0_y',\n",
    "       'GazeNormal0_z', 'EyeCenter1_x', 'EyeCenter1_y', 'EyeCenter1_z',\n",
    "       'GazeNormal1_x', 'GazeNormal1_y', 'GazeNormal1_z', 'eyes_dir_hit_x',\n",
    "       'eyes_dir_hit_y', 'eyes_dir_hit_z', 'eyes_to_surface_distance',\n",
    "       'eyes_to_surface_angle', 'eyes_dir_name', 'unity_time',\n",
    "       'TimeSinceStart', 'EyeID', 'Unnamed: 29']"
   ]
  },
  {
   "cell_type": "code",
   "execution_count": 18,
   "id": "a694f309-d8c2-47d2-81b5-35d5135acca3",
   "metadata": {},
   "outputs": [],
   "source": [
    "# As per ofer rec to Sasha. R<>Sasha meet 7.6.22\n",
    "gaze_cols = ['confidence', 'norm_pos_x', 'norm_pos_y', 'timestamp','unity_time', 'TimeSinceStart']"
   ]
  },
  {
   "cell_type": "code",
   "execution_count": 48,
   "id": "8b405a54-67f1-411e-8345-36200188f8e9",
   "metadata": {},
   "outputs": [],
   "source": [
    "def load_binocular(part,events,cols=None):\n",
    "    events_path = BASE_PATH+part+'/Gaze data.csv'\n",
    "    _gaze_df = pd.read_csv(events_path,on_bad_lines='warn')\n",
    "    \n",
    "    _cols = cols if cols else _gaze_df.columns\n",
    "    \n",
    "    BINgaze_df = _gaze_df[_gaze_df['EyeID']=='Binocular'][_cols]\n",
    "    BINgaze_df['unity_time'] = BINgaze_df['unity_time'].apply(lambda x: x/1E7)\n",
    "        \n",
    "    # time since the Beginning in unity-time seconds\n",
    "    # unity time associates gaze data in Gaze data.csv with events onsets in Events.csv\n",
    "    BINgaze_df['timedelta'] = BINgaze_df['unity_time'] - events[0]\n",
    "    \n",
    "    # cast as datetime for resampling, interpolation\n",
    "    # \"pre 1970\" is negative time, time before first event onset\n",
    "    BINgaze_df['timedelta_dt'] = pd.to_datetime(BINgaze_df['timedelta'],unit='s')\n",
    "    # first data point from onset \n",
    "    # start_delta = 0.0\n",
    "    BINgaze_df = BINgaze_df[BINgaze_df['timedelta'] >= START_DELTA ]\n",
    "    BINgaze_df = BINgaze_df.reset_index(drop=True)\n",
    "    \n",
    "    return BINgaze_df"
   ]
  },
  {
   "cell_type": "code",
   "execution_count": 119,
   "id": "185cea97-db0a-467b-8a3f-fc725b16c367",
   "metadata": {},
   "outputs": [],
   "source": [
    "def fillfirstna(resampled_df,orig_df):\n",
    "    # gaze_sample.loc[ar_gaze_sample['timedelta']>0].index[0] should be equivalent to ar_gaze_sample.iloc[0] if reset index to start_delta ie timedelta >=0\n",
    "    if resampled_df.iloc[0].isna().all() and orig_df.iloc[0]['timedelta'] >= START_DELTA:\n",
    "            resampled_df.iloc[0] = orig_df.iloc[0][resampled_df.columns]\n",
    "    # TODO elif second clause make more flex for closest in time\n",
    "    return resampled_df\n",
    "\n",
    "\n",
    "def resample_and_interpolate(gaze_df,interp_cols,ffill=False):\n",
    "    \n",
    "    # mod ffill method to only return resampled time points \n",
    "    if ffill:\n",
    "        resampled_df = gaze_df.set_index('timedelta_dt').resample('{hz}S'.format(hz=FREQ)).ffill()\n",
    "        gaze_df = gaze_df.set_index('timedelta_dt')\n",
    "        # if no data at the 0th time mark, will be na because ffill \n",
    "        # fill onset gaze loc with \"original\" (closest) value \n",
    "        resampled_df = fillfirstna(gaze_df,resampled_df)\n",
    "        # resampledInterspersed_df = resampledCat_df.sort_values(by='timedelta_dt')\n",
    "        resampled_df = resampled_df[resampled_df.index.minute < END_MINUTE]\n",
    "    # cubic spline interpolation\n",
    "    else:\n",
    "        # returns empty dataframe indexed at frequency\n",
    "        NaNresampled_df = gaze_df.set_index('timedelta_dt').resample('{hz}S'.format(hz=FREQ)).interpolate()\n",
    "        gaze_df = gaze_df.set_index('timedelta_dt')\n",
    "        # should be zero overlap between timestamps since original report is to nanosecond and resampling is by the millisecond\n",
    "        # concats back-to-back\n",
    "        resampledCat_df = pd.concat([NaNresampled_df,gaze_df])\n",
    "        # order by time - nan rows interspersed with reported values\n",
    "        resampledInterspersed_df = resampledCat_df.sort_values(by='timedelta_dt')\n",
    "        # (Cubic spline) interpolation between resampled points\n",
    "        CSresampled_df = resampledInterspersed_df[interp_cols].interpolate(method='cubicspline')\n",
    "        \n",
    "        # take only the resampled time rows\n",
    "        resampled_df = CSresampled_df.loc[NaNresampled_df.index]\n",
    "        \n",
    "        resampled_df = fillfirstna(resampled_df,gaze_df)\n",
    "        \n",
    "        # resampled_df = resampled_df[resampled_df.index.minute < END_MINUTE]\n",
    "        # keep right fencepost\n",
    "        resampled_df = resampled_df[(resampled_df.index <= datetime(year=1970,month=1,day=1,minute=END_MINUTE,second=0))]\n",
    "        \n",
    "    return resampled_df \n",
    "\n",
    "def gaze_input_tensor(gaze_df,return_cols=['norm_pos_x','norm_pos_y']):\n",
    "    resampled_df = resample_and_interpolate(gaze_df,interp_cols=return_cols)\n",
    "    return torch.tensor(resampled_df.values)"
   ]
  },
  {
   "cell_type": "code",
   "execution_count": 17,
   "id": "c8aa8ef3-5ef7-46dd-af13-cf04dba4f136",
   "metadata": {
    "collapsed": true,
    "jupyter": {
     "outputs_hidden": true
    },
    "tags": []
   },
   "outputs": [
    {
     "name": "stdout",
     "output_type": "stream",
     "text": [
      "122 stimuli, 122 events onsets - participant AR\n",
      "122 stimuli, 122 events onsets - participant DI\n",
      "122 stimuli, 122 events onsets - participant DM\n",
      "122 stimuli, 122 events onsets - participant IL\n",
      "122 stimuli, 122 events onsets - participant IS\n",
      "122 stimuli, 122 events onsets - participant MA\n",
      "122 stimuli, 122 events onsets - participant NC\n",
      "122 stimuli, 122 events onsets - participant NCH\n",
      "122 stimuli, 122 events onsets - participant NH\n",
      "122 stimuli, 122 events onsets - participant NT\n",
      "124 stimuli, 124 events onsets - participant OA\n",
      "122 stimuli, 122 events onsets - participant OB\n",
      "122 stimuli, 122 events onsets - participant RB\n",
      "122 stimuli, 122 events onsets - participant RN\n",
      "122 stimuli, 122 events onsets - participant SG\n",
      "122 stimuli, 122 events onsets - participant SHB\n",
      "122 stimuli, 122 events onsets - participant SHM\n",
      "122 stimuli, 122 events onsets - participant SSW\n",
      "122 stimuli, 122 events onsets - participant TL\n",
      "122 stimuli, 122 events onsets - participant VT\n",
      "122 stimuli, 122 events onsets - participant YCH\n",
      "122 stimuli, 122 events onsets - participant YK\n",
      "122 stimuli, 122 events onsets - participant YM\n",
      "122 stimuli, 122 events onsets - participant YUC\n"
     ]
    }
   ],
   "source": [
    "# events_dict = {}\n",
    "# for part in PART_LIST:\n",
    "    # try:\n",
    "    #     onsets, simset, imgs = load_events(part)\n",
    "    #     events_dict[part+'_events'] = onsets\n",
    "    #     events_dict[part+'_simset'] = simset\n",
    "    #     events_dict[part+'_imgs'] = imgs\n",
    "    # except FileNotFoundError as e:\n",
    "    #     print(e)"
   ]
  },
  {
   "cell_type": "code",
   "execution_count": 19,
   "id": "3e696a6a-4912-47c9-a102-60b4878e116c",
   "metadata": {},
   "outputs": [
    {
     "name": "stdout",
     "output_type": "stream",
     "text": [
      "122 stimuli, 122 events onsets - participant AR\n"
     ]
    }
   ],
   "source": [
    "# test\n",
    "ar_events_series, ar_simset, ar_imgs_arr = load_events('AR')"
   ]
  },
  {
   "cell_type": "code",
   "execution_count": 51,
   "id": "2ff58b45-877c-43f7-b9b1-fab463b6e353",
   "metadata": {},
   "outputs": [],
   "source": [
    "ar_gaze_df = load_binocular('AR',events=ar_events_series,cols=gaze_cols)"
   ]
  },
  {
   "cell_type": "code",
   "execution_count": 53,
   "id": "f547cca4-d6fb-42fc-81ec-3e5057758986",
   "metadata": {},
   "outputs": [
    {
     "data": {
      "text/html": [
       "<div>\n",
       "<style scoped>\n",
       "    .dataframe tbody tr th:only-of-type {\n",
       "        vertical-align: middle;\n",
       "    }\n",
       "\n",
       "    .dataframe tbody tr th {\n",
       "        vertical-align: top;\n",
       "    }\n",
       "\n",
       "    .dataframe thead th {\n",
       "        text-align: right;\n",
       "    }\n",
       "</style>\n",
       "<table border=\"1\" class=\"dataframe\">\n",
       "  <thead>\n",
       "    <tr style=\"text-align: right;\">\n",
       "      <th></th>\n",
       "      <th>confidence</th>\n",
       "      <th>norm_pos_x</th>\n",
       "      <th>norm_pos_y</th>\n",
       "      <th>timestamp</th>\n",
       "      <th>unity_time</th>\n",
       "      <th>TimeSinceStart</th>\n",
       "      <th>timedelta</th>\n",
       "      <th>timedelta_dt</th>\n",
       "    </tr>\n",
       "  </thead>\n",
       "  <tbody>\n",
       "    <tr>\n",
       "      <th>0</th>\n",
       "      <td>1.00000</td>\n",
       "      <td>0.603335</td>\n",
       "      <td>-0.251901</td>\n",
       "      <td>152.883091</td>\n",
       "      <td>4014.632130</td>\n",
       "      <td>152.9777</td>\n",
       "      <td>0.001034</td>\n",
       "      <td>1970-01-01 00:00:00.001033900</td>\n",
       "    </tr>\n",
       "    <tr>\n",
       "      <th>1</th>\n",
       "      <td>0.94489</td>\n",
       "      <td>0.606151</td>\n",
       "      <td>-0.247742</td>\n",
       "      <td>152.887935</td>\n",
       "      <td>4014.632171</td>\n",
       "      <td>152.9777</td>\n",
       "      <td>0.001075</td>\n",
       "      <td>1970-01-01 00:00:00.001075300</td>\n",
       "    </tr>\n",
       "    <tr>\n",
       "      <th>2</th>\n",
       "      <td>0.94489</td>\n",
       "      <td>0.605414</td>\n",
       "      <td>-0.256802</td>\n",
       "      <td>152.890226</td>\n",
       "      <td>4014.659948</td>\n",
       "      <td>153.0055</td>\n",
       "      <td>0.028852</td>\n",
       "      <td>1970-01-01 00:00:00.028852399</td>\n",
       "    </tr>\n",
       "    <tr>\n",
       "      <th>3</th>\n",
       "      <td>1.00000</td>\n",
       "      <td>0.601761</td>\n",
       "      <td>-0.253033</td>\n",
       "      <td>152.892312</td>\n",
       "      <td>4014.659989</td>\n",
       "      <td>153.0055</td>\n",
       "      <td>0.028893</td>\n",
       "      <td>1970-01-01 00:00:00.028893199</td>\n",
       "    </tr>\n",
       "    <tr>\n",
       "      <th>4</th>\n",
       "      <td>1.00000</td>\n",
       "      <td>0.603854</td>\n",
       "      <td>-0.251132</td>\n",
       "      <td>152.896237</td>\n",
       "      <td>4014.660020</td>\n",
       "      <td>153.0056</td>\n",
       "      <td>0.028924</td>\n",
       "      <td>1970-01-01 00:00:00.028924100</td>\n",
       "    </tr>\n",
       "  </tbody>\n",
       "</table>\n",
       "</div>"
      ],
      "text/plain": [
       "   confidence  norm_pos_x  norm_pos_y   timestamp   unity_time  \\\n",
       "0     1.00000    0.603335   -0.251901  152.883091  4014.632130   \n",
       "1     0.94489    0.606151   -0.247742  152.887935  4014.632171   \n",
       "2     0.94489    0.605414   -0.256802  152.890226  4014.659948   \n",
       "3     1.00000    0.601761   -0.253033  152.892312  4014.659989   \n",
       "4     1.00000    0.603854   -0.251132  152.896237  4014.660020   \n",
       "\n",
       "   TimeSinceStart  timedelta                  timedelta_dt  \n",
       "0        152.9777   0.001034 1970-01-01 00:00:00.001033900  \n",
       "1        152.9777   0.001075 1970-01-01 00:00:00.001075300  \n",
       "2        153.0055   0.028852 1970-01-01 00:00:00.028852399  \n",
       "3        153.0055   0.028893 1970-01-01 00:00:00.028893199  \n",
       "4        153.0056   0.028924 1970-01-01 00:00:00.028924100  "
      ]
     },
     "execution_count": 53,
     "metadata": {},
     "output_type": "execute_result"
    }
   ],
   "source": [
    "ar_gaze_df.head()"
   ]
  },
  {
   "cell_type": "code",
   "execution_count": 52,
   "id": "0e2a2f70-3cc9-43f1-966d-8d58b05549ce",
   "metadata": {},
   "outputs": [
    {
     "data": {
      "text/plain": [
       "confidence               float64\n",
       "norm_pos_x               float64\n",
       "norm_pos_y               float64\n",
       "timestamp                float64\n",
       "unity_time               float64\n",
       "TimeSinceStart           float64\n",
       "timedelta                float64\n",
       "timedelta_dt      datetime64[ns]\n",
       "dtype: object"
      ]
     },
     "execution_count": 52,
     "metadata": {},
     "output_type": "execute_result"
    }
   ],
   "source": [
    "ar_gaze_df.dtypes"
   ]
  },
  {
   "cell_type": "markdown",
   "id": "51635ac5-b114-45a0-9fdc-b13aa59bfc6f",
   "metadata": {},
   "source": [
    "Resample with forward fill - missing much of the granularity"
   ]
  },
  {
   "cell_type": "code",
   "execution_count": 113,
   "id": "24900988-787d-4251-a2ce-9fa52cccf33c",
   "metadata": {},
   "outputs": [],
   "source": [
    "ar_gaze_resampled = resample_and_interpolate(ar_gaze_df)"
   ]
  },
  {
   "cell_type": "code",
   "execution_count": 114,
   "id": "f8d87304-2ad4-408d-ab4e-5fc748f380e0",
   "metadata": {},
   "outputs": [
    {
     "data": {
      "text/html": [
       "<div>\n",
       "<style scoped>\n",
       "    .dataframe tbody tr th:only-of-type {\n",
       "        vertical-align: middle;\n",
       "    }\n",
       "\n",
       "    .dataframe tbody tr th {\n",
       "        vertical-align: top;\n",
       "    }\n",
       "\n",
       "    .dataframe thead th {\n",
       "        text-align: right;\n",
       "    }\n",
       "</style>\n",
       "<table border=\"1\" class=\"dataframe\">\n",
       "  <thead>\n",
       "    <tr style=\"text-align: right;\">\n",
       "      <th></th>\n",
       "      <th>confidence</th>\n",
       "      <th>norm_pos_x</th>\n",
       "      <th>norm_pos_y</th>\n",
       "      <th>timestamp</th>\n",
       "      <th>unity_time</th>\n",
       "      <th>TimeSinceStart</th>\n",
       "      <th>timedelta</th>\n",
       "      <th>timedelta_dt</th>\n",
       "    </tr>\n",
       "  </thead>\n",
       "  <tbody>\n",
       "    <tr>\n",
       "      <th>0</th>\n",
       "      <td>1.00000</td>\n",
       "      <td>0.603335</td>\n",
       "      <td>-0.251901</td>\n",
       "      <td>152.883091</td>\n",
       "      <td>4014.632130</td>\n",
       "      <td>152.9777</td>\n",
       "      <td>0.001034</td>\n",
       "      <td>1970-01-01 00:00:00.001033900</td>\n",
       "    </tr>\n",
       "    <tr>\n",
       "      <th>1</th>\n",
       "      <td>0.94489</td>\n",
       "      <td>0.606151</td>\n",
       "      <td>-0.247742</td>\n",
       "      <td>152.887935</td>\n",
       "      <td>4014.632171</td>\n",
       "      <td>152.9777</td>\n",
       "      <td>0.001075</td>\n",
       "      <td>1970-01-01 00:00:00.001075300</td>\n",
       "    </tr>\n",
       "    <tr>\n",
       "      <th>2</th>\n",
       "      <td>0.94489</td>\n",
       "      <td>0.605414</td>\n",
       "      <td>-0.256802</td>\n",
       "      <td>152.890226</td>\n",
       "      <td>4014.659948</td>\n",
       "      <td>153.0055</td>\n",
       "      <td>0.028852</td>\n",
       "      <td>1970-01-01 00:00:00.028852399</td>\n",
       "    </tr>\n",
       "    <tr>\n",
       "      <th>3</th>\n",
       "      <td>1.00000</td>\n",
       "      <td>0.601761</td>\n",
       "      <td>-0.253033</td>\n",
       "      <td>152.892312</td>\n",
       "      <td>4014.659989</td>\n",
       "      <td>153.0055</td>\n",
       "      <td>0.028893</td>\n",
       "      <td>1970-01-01 00:00:00.028893199</td>\n",
       "    </tr>\n",
       "    <tr>\n",
       "      <th>4</th>\n",
       "      <td>1.00000</td>\n",
       "      <td>0.603854</td>\n",
       "      <td>-0.251132</td>\n",
       "      <td>152.896237</td>\n",
       "      <td>4014.660020</td>\n",
       "      <td>153.0056</td>\n",
       "      <td>0.028924</td>\n",
       "      <td>1970-01-01 00:00:00.028924100</td>\n",
       "    </tr>\n",
       "  </tbody>\n",
       "</table>\n",
       "</div>"
      ],
      "text/plain": [
       "   confidence  norm_pos_x  norm_pos_y   timestamp   unity_time  \\\n",
       "0     1.00000    0.603335   -0.251901  152.883091  4014.632130   \n",
       "1     0.94489    0.606151   -0.247742  152.887935  4014.632171   \n",
       "2     0.94489    0.605414   -0.256802  152.890226  4014.659948   \n",
       "3     1.00000    0.601761   -0.253033  152.892312  4014.659989   \n",
       "4     1.00000    0.603854   -0.251132  152.896237  4014.660020   \n",
       "\n",
       "   TimeSinceStart  timedelta                  timedelta_dt  \n",
       "0        152.9777   0.001034 1970-01-01 00:00:00.001033900  \n",
       "1        152.9777   0.001075 1970-01-01 00:00:00.001075300  \n",
       "2        153.0055   0.028852 1970-01-01 00:00:00.028852399  \n",
       "3        153.0055   0.028893 1970-01-01 00:00:00.028893199  \n",
       "4        153.0056   0.028924 1970-01-01 00:00:00.028924100  "
      ]
     },
     "execution_count": 114,
     "metadata": {},
     "output_type": "execute_result"
    }
   ],
   "source": [
    "ar_gaze_df.head()"
   ]
  },
  {
   "cell_type": "code",
   "execution_count": 115,
   "id": "869a5ea9-0eac-45c4-becf-c50e81b25838",
   "metadata": {},
   "outputs": [
    {
     "data": {
      "text/html": [
       "<div>\n",
       "<style scoped>\n",
       "    .dataframe tbody tr th:only-of-type {\n",
       "        vertical-align: middle;\n",
       "    }\n",
       "\n",
       "    .dataframe tbody tr th {\n",
       "        vertical-align: top;\n",
       "    }\n",
       "\n",
       "    .dataframe thead th {\n",
       "        text-align: right;\n",
       "    }\n",
       "</style>\n",
       "<table border=\"1\" class=\"dataframe\">\n",
       "  <thead>\n",
       "    <tr style=\"text-align: right;\">\n",
       "      <th></th>\n",
       "      <th>norm_pos_x</th>\n",
       "      <th>norm_pos_y</th>\n",
       "    </tr>\n",
       "    <tr>\n",
       "      <th>timedelta_dt</th>\n",
       "      <th></th>\n",
       "      <th></th>\n",
       "    </tr>\n",
       "  </thead>\n",
       "  <tbody>\n",
       "    <tr>\n",
       "      <th>1970-01-01 00:00:00.000</th>\n",
       "      <td>0.603335</td>\n",
       "      <td>-0.251901</td>\n",
       "    </tr>\n",
       "    <tr>\n",
       "      <th>1970-01-01 00:00:00.008</th>\n",
       "      <td>1.075943</td>\n",
       "      <td>0.005425</td>\n",
       "    </tr>\n",
       "    <tr>\n",
       "      <th>1970-01-01 00:00:00.016</th>\n",
       "      <td>1.408222</td>\n",
       "      <td>-0.321605</td>\n",
       "    </tr>\n",
       "    <tr>\n",
       "      <th>1970-01-01 00:00:00.024</th>\n",
       "      <td>1.174222</td>\n",
       "      <td>-0.532017</td>\n",
       "    </tr>\n",
       "    <tr>\n",
       "      <th>1970-01-01 00:00:00.032</th>\n",
       "      <td>-0.170017</td>\n",
       "      <td>0.106299</td>\n",
       "    </tr>\n",
       "  </tbody>\n",
       "</table>\n",
       "</div>"
      ],
      "text/plain": [
       "                         norm_pos_x  norm_pos_y\n",
       "timedelta_dt                                   \n",
       "1970-01-01 00:00:00.000    0.603335   -0.251901\n",
       "1970-01-01 00:00:00.008    1.075943    0.005425\n",
       "1970-01-01 00:00:00.016    1.408222   -0.321605\n",
       "1970-01-01 00:00:00.024    1.174222   -0.532017\n",
       "1970-01-01 00:00:00.032   -0.170017    0.106299"
      ]
     },
     "execution_count": 115,
     "metadata": {},
     "output_type": "execute_result"
    }
   ],
   "source": [
    "ar_gaze_resampled.head()"
   ]
  },
  {
   "cell_type": "code",
   "execution_count": 116,
   "id": "5ff60b59-da8d-4d0a-8367-803b1d8a7bcd",
   "metadata": {},
   "outputs": [
    {
     "data": {
      "text/html": [
       "<div>\n",
       "<style scoped>\n",
       "    .dataframe tbody tr th:only-of-type {\n",
       "        vertical-align: middle;\n",
       "    }\n",
       "\n",
       "    .dataframe tbody tr th {\n",
       "        vertical-align: top;\n",
       "    }\n",
       "\n",
       "    .dataframe thead th {\n",
       "        text-align: right;\n",
       "    }\n",
       "</style>\n",
       "<table border=\"1\" class=\"dataframe\">\n",
       "  <thead>\n",
       "    <tr style=\"text-align: right;\">\n",
       "      <th></th>\n",
       "      <th>norm_pos_x</th>\n",
       "      <th>norm_pos_y</th>\n",
       "    </tr>\n",
       "    <tr>\n",
       "      <th>timedelta_dt</th>\n",
       "      <th></th>\n",
       "      <th></th>\n",
       "    </tr>\n",
       "  </thead>\n",
       "  <tbody>\n",
       "    <tr>\n",
       "      <th>1970-01-01 00:05:59.968</th>\n",
       "      <td>0.464119</td>\n",
       "      <td>-0.307525</td>\n",
       "    </tr>\n",
       "    <tr>\n",
       "      <th>1970-01-01 00:05:59.976</th>\n",
       "      <td>0.652363</td>\n",
       "      <td>-0.079985</td>\n",
       "    </tr>\n",
       "    <tr>\n",
       "      <th>1970-01-01 00:05:59.984</th>\n",
       "      <td>0.469805</td>\n",
       "      <td>-0.153029</td>\n",
       "    </tr>\n",
       "    <tr>\n",
       "      <th>1970-01-01 00:05:59.992</th>\n",
       "      <td>0.247078</td>\n",
       "      <td>-0.020280</td>\n",
       "    </tr>\n",
       "    <tr>\n",
       "      <th>1970-01-01 00:06:00.000</th>\n",
       "      <td>0.299245</td>\n",
       "      <td>-0.021139</td>\n",
       "    </tr>\n",
       "  </tbody>\n",
       "</table>\n",
       "</div>"
      ],
      "text/plain": [
       "                         norm_pos_x  norm_pos_y\n",
       "timedelta_dt                                   \n",
       "1970-01-01 00:05:59.968    0.464119   -0.307525\n",
       "1970-01-01 00:05:59.976    0.652363   -0.079985\n",
       "1970-01-01 00:05:59.984    0.469805   -0.153029\n",
       "1970-01-01 00:05:59.992    0.247078   -0.020280\n",
       "1970-01-01 00:06:00.000    0.299245   -0.021139"
      ]
     },
     "execution_count": 116,
     "metadata": {},
     "output_type": "execute_result"
    }
   ],
   "source": [
    "ar_gaze_resampled.tail()"
   ]
  },
  {
   "cell_type": "code",
   "execution_count": 118,
   "id": "ae8bb3fa-541a-478a-8042-1491fe180da2",
   "metadata": {},
   "outputs": [
    {
     "data": {
      "text/plain": [
       "(45001, 2)"
      ]
     },
     "execution_count": 118,
     "metadata": {},
     "output_type": "execute_result"
    }
   ],
   "source": [
    "ar_gaze_resampled.shape"
   ]
  },
  {
   "cell_type": "code",
   "execution_count": 120,
   "id": "04afe488-f6e5-4d03-9199-e9d298471a6e",
   "metadata": {},
   "outputs": [],
   "source": [
    "ar_gaze_input_tensor = gaze_input_tensor(ar_gaze_df)"
   ]
  },
  {
   "cell_type": "code",
   "execution_count": 121,
   "id": "0799f2e6-1de2-48be-85ce-c18dabe2b64c",
   "metadata": {},
   "outputs": [
    {
     "data": {
      "text/plain": [
       "tensor([[ 0.6033, -0.2519],\n",
       "        [ 1.0759,  0.0054],\n",
       "        [ 1.4082, -0.3216],\n",
       "        ...,\n",
       "        [ 0.4698, -0.1530],\n",
       "        [ 0.2471, -0.0203],\n",
       "        [ 0.2992, -0.0211]], dtype=torch.float64)"
      ]
     },
     "execution_count": 121,
     "metadata": {},
     "output_type": "execute_result"
    }
   ],
   "source": [
    "ar_gaze_input_tensor"
   ]
  },
  {
   "cell_type": "code",
   "execution_count": 122,
   "id": "6b439e09-7493-4f1b-9da9-23ccf34ac2dd",
   "metadata": {},
   "outputs": [
    {
     "data": {
      "text/plain": [
       "torch.Size([45001, 2])"
      ]
     },
     "execution_count": 122,
     "metadata": {},
     "output_type": "execute_result"
    }
   ],
   "source": [
    "ar_gaze_input_tensor.shape"
   ]
  },
  {
   "cell_type": "markdown",
   "id": "551402f2-e9e0-4d8b-99eb-9dac58c9cffd",
   "metadata": {},
   "source": [
    "Events"
   ]
  },
  {
   "cell_type": "code",
   "execution_count": 123,
   "id": "9b3dacaa-6886-4124-928f-dac2bd7d355d",
   "metadata": {},
   "outputs": [
    {
     "data": {
      "text/plain": [
       "12"
      ]
     },
     "execution_count": 123,
     "metadata": {},
     "output_type": "execute_result"
    }
   ],
   "source": [
    "ar_simset"
   ]
  },
  {
   "cell_type": "code",
   "execution_count": 124,
   "id": "34848b99-9ed8-408b-8310-a3d1d3dc920e",
   "metadata": {},
   "outputs": [
    {
     "data": {
      "text/plain": [
       "array([50, 82, 78, 71, 97, 86,  7, 64, 51, 99, 58, 44, 41, 85, 73, 12, 95,\n",
       "       66, 15, 83, 87, 23, 31,  4, 54, 29, 16, 96, 92, 56, 70, 24, 38, 89,\n",
       "       25, 88,  1, 49, 34, 19, 94, 62, 28, 75, 67, 81, 36, 46, 69, 11, 55,\n",
       "       84,  2, 47, 53, 20, 48, 91, 35, 32, 93,  5, 33, 37, 60, 40, 77, 74,\n",
       "       52,  0, 63, 72, 27, 80, 68, 22, 10,  8,  6,  3, 98, 76, 65, 79, 21,\n",
       "       30,  9, 57, 59, 42, 18, 90, 39, 26, 13, 45, 17, 61, 43, 14, 73, 97,\n",
       "       20, 93, 35, 95, 97, 23, 92, 71, 10, 85, 55,  0,  1, 33, 60, 40, 99,\n",
       "       67, 31, 24])"
      ]
     },
     "execution_count": 124,
     "metadata": {},
     "output_type": "execute_result"
    }
   ],
   "source": [
    "ar_imgs_arr"
   ]
  },
  {
   "cell_type": "code",
   "execution_count": 125,
   "id": "2e44746e-dee0-4d00-a7f3-6d1333bf7338",
   "metadata": {},
   "outputs": [
    {
     "data": {
      "text/plain": [
       "0      4014.631096\n",
       "1      4017.656451\n",
       "2      4020.683983\n",
       "3      4023.710307\n",
       "4      4026.738614\n",
       "          ...     \n",
       "117    4368.490379\n",
       "118    4371.517478\n",
       "119    4374.545062\n",
       "120    4377.560591\n",
       "121    4380.588651\n",
       "Name: unity_time, Length: 122, dtype: float64"
      ]
     },
     "execution_count": 125,
     "metadata": {},
     "output_type": "execute_result"
    }
   ],
   "source": [
    "ar_events_series"
   ]
  },
  {
   "cell_type": "code",
   "execution_count": 126,
   "id": "67308c93-e94f-44fb-a83f-65e83520f60f",
   "metadata": {},
   "outputs": [],
   "source": [
    "(x_train, y_train), (x_test, y_test) = tf.keras.datasets.cifar100.load_data()"
   ]
  },
  {
   "cell_type": "code",
   "execution_count": 127,
   "id": "346d4641-576e-47c2-b351-2ee9de46f5f9",
   "metadata": {},
   "outputs": [],
   "source": [
    "def decode_image_from_simset_and_label(simset,label):\n",
    "    return x_train[np.where(y_train==label)[0][simset-1]]"
   ]
  },
  {
   "cell_type": "code",
   "execution_count": 128,
   "id": "e261bc8d-fcb4-4b25-920d-4d0f263a9bb4",
   "metadata": {},
   "outputs": [],
   "source": [
    "img = decode_image_from_simset_and_label(simset=ar_simset,label=ar_imgs_arr[0])"
   ]
  },
  {
   "cell_type": "code",
   "execution_count": 129,
   "id": "614d9edb-0c38-4add-a148-fe2a455f3979",
   "metadata": {},
   "outputs": [
    {
     "data": {
      "text/plain": [
       "(32, 32, 3)"
      ]
     },
     "execution_count": 129,
     "metadata": {},
     "output_type": "execute_result"
    }
   ],
   "source": [
    "img.shape"
   ]
  },
  {
   "cell_type": "code",
   "execution_count": 130,
   "id": "ef81598b-e043-49f5-8d87-f9f69b83cbd7",
   "metadata": {},
   "outputs": [
    {
     "data": {
      "text/plain": [
       "torch.Size([32, 32, 3])"
      ]
     },
     "execution_count": 130,
     "metadata": {},
     "output_type": "execute_result"
    }
   ],
   "source": [
    "torch.tensor(decode_image_from_simset_and_label(simset=ar_simset,label=ar_imgs_arr[1])).shape"
   ]
  },
  {
   "cell_type": "code",
   "execution_count": 131,
   "id": "d2d4a46a-4e94-4d4f-8bd1-9a29aac65fd4",
   "metadata": {},
   "outputs": [],
   "source": [
    "imgs = torch.stack([torch.tensor(decode_image_from_simset_and_label(simset=ar_simset,label=ar_imgs_arr[:5])),torch.tensor(decode_image_from_simset_and_label(simset=ar_simset,label=ar_imgs_arr[1]))])"
   ]
  },
  {
   "cell_type": "code",
   "execution_count": 132,
   "id": "f1326fb3-86d1-49c0-97ef-89584adcf880",
   "metadata": {},
   "outputs": [
    {
     "data": {
      "text/plain": [
       "torch.Size([2, 32, 32, 3])"
      ]
     },
     "execution_count": 132,
     "metadata": {},
     "output_type": "execute_result"
    }
   ],
   "source": [
    "imgs.shape"
   ]
  },
  {
   "cell_type": "code",
   "execution_count": 133,
   "id": "12b91a66-bc7d-4bde-8a8e-b8d8217578d6",
   "metadata": {},
   "outputs": [
    {
     "data": {
      "text/plain": [
       "<matplotlib.image.AxesImage at 0x1092014c0>"
      ]
     },
     "execution_count": 133,
     "metadata": {},
     "output_type": "execute_result"
    },
    {
     "data": {
      "image/png": "[encoded data removed]",
      "text/plain": [
       "<Figure size 432x288 with 1 Axes>"
      ]
     },
     "metadata": {
      "needs_background": "light"
     },
     "output_type": "display_data"
    }
   ],
   "source": [
    "plt.imshow(img)"
   ]
  },
  {
   "cell_type": "code",
   "execution_count": 134,
   "id": "67c064b5-cac8-4045-a411-b3aaa17c6ae2",
   "metadata": {},
   "outputs": [
    {
     "data": {
      "text/plain": [
       "<matplotlib.image.AxesImage at 0x1094dfb80>"
      ]
     },
     "execution_count": 134,
     "metadata": {},
     "output_type": "execute_result"
    },
    {
     "data": {
      "image/png": "[encoded data removed]",
      "text/plain": [
       "<Figure size 432x288 with 1 Axes>"
      ]
     },
     "metadata": {
      "needs_background": "light"
     },
     "output_type": "display_data"
    }
   ],
   "source": [
    "plt.imshow(imgs[1])"
   ]
  },
  {
   "cell_type": "code",
   "execution_count": 20,
   "id": "d5f8482c-4fbc-4c85-a3ba-21e19d0ec7ce",
   "metadata": {},
   "outputs": [],
   "source": [
    "cifar_vit = timm.create_model('vit_base_patch16_224_miil_in21k', pretrained=True)"
   ]
  },
  {
   "cell_type": "code",
   "execution_count": 137,
   "id": "030fcfec-98e4-4d6d-abe2-8dd3b5dc5836",
   "metadata": {
    "tags": []
   },
   "outputs": [],
   "source": [
    "# cifar_vit.eval()"
   ]
  },
  {
   "cell_type": "code",
   "execution_count": 136,
   "id": "8687afc7-c2b5-43fd-8995-dc81fbbffdb3",
   "metadata": {
    "tags": []
   },
   "outputs": [],
   "source": [
    "# from pprint import pprint\n",
    "# model_names = timm.list_models(pretrained=True)\n",
    "# pprint(model_names)"
   ]
  },
  {
   "cell_type": "code",
   "execution_count": null,
   "id": "33ad7298-8c64-4d2e-8c8c-8b84b72dad64",
   "metadata": {},
   "outputs": [],
   "source": []
  }
 ],
 "metadata": {
  "kernelspec": {
   "display_name": "drift3nv.8",
   "language": "python",
   "name": "drift3nv.8"
  },
  "language_info": {
   "codemirror_mode": {
    "name": "ipython",
    "version": 3
   },
   "file_extension": ".py",
   "mimetype": "text/x-python",
   "name": "python",
   "nbconvert_exporter": "python",
   "pygments_lexer": "ipython3",
   "version": "3.8.13"
  }
 },
 "nbformat": 4,
 "nbformat_minor": 5
}
